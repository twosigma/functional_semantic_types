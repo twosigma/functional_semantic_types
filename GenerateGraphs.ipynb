{
 "cells": [
  {
   "cell_type": "code",
   "execution_count": null,
   "id": "81b8b353-67dc-4fc3-9546-6358ac4f1a5b",
   "metadata": {
    "tags": []
   },
   "outputs": [],
   "source": [
    "%load_ext autoreload\n",
    "%autoreload 2"
   ]
  },
  {
   "cell_type": "code",
   "execution_count": null,
   "id": "316ba061-cb4c-4da1-92a5-25a0449da47d",
   "metadata": {
    "scrolled": true,
    "tags": []
   },
   "outputs": [],
   "source": [
    "from pipeline import KaggleGraphCreator\n",
    "\n",
    "data_dir = 'assets/kaggle/tables'\n",
    "creator = KaggleGraphCreator()\n",
    "g = creator.main('kaggle_temp.pickle', use_presaved=True)"
   ]
  },
  {
   "cell_type": "code",
   "execution_count": null,
   "id": "ac53fea4-6274-42dd-be98-bd872777f8f1",
   "metadata": {
    "scrolled": true,
    "tags": []
   },
   "outputs": [],
   "source": [
    "from pipeline import HarvardGraphCreator\n",
    "\n",
    "data_dir = 'assets/harvard/tables'\n",
    "creator = HarvardGraphCreator()\n",
    "\n",
    "g = creator.main('harvard_temp.pickle', use_presaved=True)"
   ]
  }
 ],
 "metadata": {
  "kernelspec": {
   "display_name": "fst (Py fst (Py3.10))",
   "language": "python",
   "name": "fst_python3"
  },
  "language_info": {
   "codemirror_mode": {
    "name": "ipython",
    "version": 3
   },
   "file_extension": ".py",
   "mimetype": "text/x-python",
   "name": "python",
   "nbconvert_exporter": "python",
   "pygments_lexer": "ipython3",
   "version": "3.10.14"
  }
 },
 "nbformat": 4,
 "nbformat_minor": 5
}
